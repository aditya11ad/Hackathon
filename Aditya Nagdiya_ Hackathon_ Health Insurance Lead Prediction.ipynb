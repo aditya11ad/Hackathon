{
 "cells": [
  {
   "cell_type": "markdown",
   "metadata": {},
   "source": [
    "# Aditya Nagdiya_ Hackathon_ Health Insurance Lead Prediction"
   ]
  },
  {
   "cell_type": "code",
   "execution_count": 1,
   "metadata": {},
   "outputs": [],
   "source": [
    "import matplotlib.pyplot as plt\n",
    "import pandas as pd\n",
    "import numpy as np\n",
    "import seaborn as sns\n",
    "\n",
    "from sklearn.model_selection import train_test_split\n",
    "\n",
    "import warnings\n",
    "warnings.filterwarnings('always')\n",
    "warnings.filterwarnings('ignore')\n",
    "\n",
    "\n",
    "from sklearn.metrics import confusion_matrix\n",
    "from sklearn.metrics import accuracy_score\n",
    "from sklearn.metrics import classification_report"
   ]
  },
  {
   "cell_type": "code",
   "execution_count": 2,
   "metadata": {},
   "outputs": [],
   "source": [
    "train = pd.read_csv(\"train_Df64byy.csv\")\n",
    "test = pd.read_csv(\"test_YCcRUnU.csv\")"
   ]
  },
  {
   "cell_type": "code",
   "execution_count": 3,
   "metadata": {},
   "outputs": [
    {
     "data": {
      "text/html": [
       "<div>\n",
       "<style scoped>\n",
       "    .dataframe tbody tr th:only-of-type {\n",
       "        vertical-align: middle;\n",
       "    }\n",
       "\n",
       "    .dataframe tbody tr th {\n",
       "        vertical-align: top;\n",
       "    }\n",
       "\n",
       "    .dataframe thead th {\n",
       "        text-align: right;\n",
       "    }\n",
       "</style>\n",
       "<table border=\"1\" class=\"dataframe\">\n",
       "  <thead>\n",
       "    <tr style=\"text-align: right;\">\n",
       "      <th></th>\n",
       "      <th>ID</th>\n",
       "      <th>City_Code</th>\n",
       "      <th>Region_Code</th>\n",
       "      <th>Accomodation_Type</th>\n",
       "      <th>Reco_Insurance_Type</th>\n",
       "      <th>Upper_Age</th>\n",
       "      <th>Lower_Age</th>\n",
       "      <th>Is_Spouse</th>\n",
       "      <th>Health Indicator</th>\n",
       "      <th>Holding_Policy_Duration</th>\n",
       "      <th>Holding_Policy_Type</th>\n",
       "      <th>Reco_Policy_Cat</th>\n",
       "      <th>Reco_Policy_Premium</th>\n",
       "      <th>Response</th>\n",
       "    </tr>\n",
       "  </thead>\n",
       "  <tbody>\n",
       "    <tr>\n",
       "      <th>0</th>\n",
       "      <td>1</td>\n",
       "      <td>C3</td>\n",
       "      <td>3213</td>\n",
       "      <td>Rented</td>\n",
       "      <td>Individual</td>\n",
       "      <td>36</td>\n",
       "      <td>36</td>\n",
       "      <td>No</td>\n",
       "      <td>X1</td>\n",
       "      <td>14+</td>\n",
       "      <td>3.0</td>\n",
       "      <td>22</td>\n",
       "      <td>11628.0</td>\n",
       "      <td>0</td>\n",
       "    </tr>\n",
       "    <tr>\n",
       "      <th>1</th>\n",
       "      <td>2</td>\n",
       "      <td>C5</td>\n",
       "      <td>1117</td>\n",
       "      <td>Owned</td>\n",
       "      <td>Joint</td>\n",
       "      <td>75</td>\n",
       "      <td>22</td>\n",
       "      <td>No</td>\n",
       "      <td>X2</td>\n",
       "      <td>NaN</td>\n",
       "      <td>NaN</td>\n",
       "      <td>22</td>\n",
       "      <td>30510.0</td>\n",
       "      <td>0</td>\n",
       "    </tr>\n",
       "    <tr>\n",
       "      <th>2</th>\n",
       "      <td>3</td>\n",
       "      <td>C5</td>\n",
       "      <td>3732</td>\n",
       "      <td>Owned</td>\n",
       "      <td>Individual</td>\n",
       "      <td>32</td>\n",
       "      <td>32</td>\n",
       "      <td>No</td>\n",
       "      <td>NaN</td>\n",
       "      <td>1.0</td>\n",
       "      <td>1.0</td>\n",
       "      <td>19</td>\n",
       "      <td>7450.0</td>\n",
       "      <td>1</td>\n",
       "    </tr>\n",
       "    <tr>\n",
       "      <th>3</th>\n",
       "      <td>4</td>\n",
       "      <td>C24</td>\n",
       "      <td>4378</td>\n",
       "      <td>Owned</td>\n",
       "      <td>Joint</td>\n",
       "      <td>52</td>\n",
       "      <td>48</td>\n",
       "      <td>No</td>\n",
       "      <td>X1</td>\n",
       "      <td>14+</td>\n",
       "      <td>3.0</td>\n",
       "      <td>19</td>\n",
       "      <td>17780.0</td>\n",
       "      <td>0</td>\n",
       "    </tr>\n",
       "    <tr>\n",
       "      <th>4</th>\n",
       "      <td>5</td>\n",
       "      <td>C8</td>\n",
       "      <td>2190</td>\n",
       "      <td>Rented</td>\n",
       "      <td>Individual</td>\n",
       "      <td>44</td>\n",
       "      <td>44</td>\n",
       "      <td>No</td>\n",
       "      <td>X2</td>\n",
       "      <td>3.0</td>\n",
       "      <td>1.0</td>\n",
       "      <td>16</td>\n",
       "      <td>10404.0</td>\n",
       "      <td>0</td>\n",
       "    </tr>\n",
       "  </tbody>\n",
       "</table>\n",
       "</div>"
      ],
      "text/plain": [
       "   ID City_Code  Region_Code Accomodation_Type Reco_Insurance_Type  Upper_Age  \\\n",
       "0   1        C3         3213            Rented          Individual         36   \n",
       "1   2        C5         1117             Owned               Joint         75   \n",
       "2   3        C5         3732             Owned          Individual         32   \n",
       "3   4       C24         4378             Owned               Joint         52   \n",
       "4   5        C8         2190            Rented          Individual         44   \n",
       "\n",
       "   Lower_Age Is_Spouse Health Indicator Holding_Policy_Duration  \\\n",
       "0         36        No               X1                     14+   \n",
       "1         22        No               X2                     NaN   \n",
       "2         32        No              NaN                     1.0   \n",
       "3         48        No               X1                     14+   \n",
       "4         44        No               X2                     3.0   \n",
       "\n",
       "   Holding_Policy_Type  Reco_Policy_Cat  Reco_Policy_Premium  Response  \n",
       "0                  3.0               22              11628.0         0  \n",
       "1                  NaN               22              30510.0         0  \n",
       "2                  1.0               19               7450.0         1  \n",
       "3                  3.0               19              17780.0         0  \n",
       "4                  1.0               16              10404.0         0  "
      ]
     },
     "execution_count": 3,
     "metadata": {},
     "output_type": "execute_result"
    }
   ],
   "source": [
    "train.head()"
   ]
  },
  {
   "cell_type": "code",
   "execution_count": 4,
   "metadata": {},
   "outputs": [
    {
     "data": {
      "text/plain": [
       "((50882, 14), (21805, 13))"
      ]
     },
     "execution_count": 4,
     "metadata": {},
     "output_type": "execute_result"
    }
   ],
   "source": [
    "train.shape,          test.shape"
   ]
  },
  {
   "cell_type": "markdown",
   "metadata": {},
   "source": [
    "- *there are 50882 rows and 14 columns in Train set, whereas in Test set  21805 rows and 13 columns*\n",
    "***"
   ]
  },
  {
   "cell_type": "markdown",
   "metadata": {},
   "source": [
    "### Exploratory Data Analysis:"
   ]
  },
  {
   "cell_type": "code",
   "execution_count": 5,
   "metadata": {},
   "outputs": [
    {
     "data": {
      "image/png": "[encoded data removed]",
      "text/plain": [
       "<Figure size 216x144 with 1 Axes>"
      ]
     },
     "metadata": {
      "needs_background": "light"
     },
     "output_type": "display_data"
    }
   ],
   "source": [
    "plt.figure(figsize=(3,2))\n",
    "sns.countplot('Accomodation_Type',data=train)\n",
    "plt.show()"
   ]
  },
  {
   "cell_type": "code",
   "execution_count": 6,
   "metadata": {},
   "outputs": [
    {
     "data": {
      "image/png": "[encoded data removed]",
      "text/plain": [
       "<Figure size 216x144 with 1 Axes>"
      ]
     },
     "metadata": {
      "needs_background": "light"
     },
     "output_type": "display_data"
    }
   ],
   "source": [
    "plt.figure(figsize=(3,2))\n",
    "sns.countplot('Reco_Insurance_Type',data=train)\n",
    "plt.show()"
   ]
  },
  {
   "cell_type": "code",
   "execution_count": 7,
   "metadata": {},
   "outputs": [
    {
     "data": {
      "image/png": "[encoded data removed]",
      "text/plain": [
       "<Figure size 216x144 with 1 Axes>"
      ]
     },
     "metadata": {
      "needs_background": "light"
     },
     "output_type": "display_data"
    }
   ],
   "source": [
    "plt.figure(figsize=(3,2))\n",
    "sns.countplot('Is_Spouse',data=train)\n",
    "plt.show()"
   ]
  },
  {
   "cell_type": "code",
   "execution_count": 8,
   "metadata": {},
   "outputs": [
    {
     "data": {
      "image/png": "[encoded data removed]",
      "text/plain": [
       "<Figure size 432x144 with 1 Axes>"
      ]
     },
     "metadata": {
      "needs_background": "light"
     },
     "output_type": "display_data"
    }
   ],
   "source": [
    "plt.figure(figsize=(6,2))\n",
    "sns.countplot('Health Indicator',data=train)\n",
    "plt.show()"
   ]
  },
  {
   "cell_type": "code",
   "execution_count": 9,
   "metadata": {},
   "outputs": [
    {
     "data": {
      "image/png": "[encoded data removed]",
      "text/plain": [
       "<Figure size 576x144 with 1 Axes>"
      ]
     },
     "metadata": {
      "needs_background": "light"
     },
     "output_type": "display_data"
    }
   ],
   "source": [
    "plt.figure(figsize=(8,2))\n",
    "sns.countplot('Holding_Policy_Duration',data=train)\n",
    "plt.show()"
   ]
  },
  {
   "cell_type": "code",
   "execution_count": 10,
   "metadata": {},
   "outputs": [
    {
     "data": {
      "image/png": "[encoded data removed]",
      "text/plain": [
       "<Figure size 216x144 with 1 Axes>"
      ]
     },
     "metadata": {
      "needs_background": "light"
     },
     "output_type": "display_data"
    }
   ],
   "source": [
    "plt.figure(figsize=(3,2))\n",
    "sns.countplot('Holding_Policy_Type',data=train)\n",
    "plt.show()"
   ]
  },
  {
   "cell_type": "code",
   "execution_count": 11,
   "metadata": {},
   "outputs": [
    {
     "data": {
      "image/png": "[encoded data removed]",
      "text/plain": [
       "<Figure size 936x144 with 1 Axes>"
      ]
     },
     "metadata": {
      "needs_background": "light"
     },
     "output_type": "display_data"
    }
   ],
   "source": [
    "plt.figure(figsize=(13,2))\n",
    "sns.countplot('Reco_Policy_Cat',data=train)\n",
    "plt.show()"
   ]
  },
  {
   "cell_type": "code",
   "execution_count": 12,
   "metadata": {},
   "outputs": [
    {
     "data": {
      "image/png": "[encoded data removed]",
      "text/plain": [
       "<Figure size 720x576 with 1 Axes>"
      ]
     },
     "metadata": {
      "needs_background": "light"
     },
     "output_type": "display_data"
    }
   ],
   "source": [
    "plt.figure(figsize=(10,8))\n",
    "sns.barplot(x='Reco_Policy_Cat',y='Reco_Policy_Premium',data=train)\n",
    "plt.show()"
   ]
  },
  {
   "cell_type": "code",
   "execution_count": 13,
   "metadata": {},
   "outputs": [
    {
     "data": {
      "image/png": "[encoded data removed]",
      "text/plain": [
       "<Figure size 216x144 with 1 Axes>"
      ]
     },
     "metadata": {
      "needs_background": "light"
     },
     "output_type": "display_data"
    }
   ],
   "source": [
    "plt.figure(figsize=(3,2))\n",
    "sns.countplot('Response',data=train, )\n",
    "plt.show()"
   ]
  },
  {
   "cell_type": "code",
   "execution_count": 14,
   "metadata": {},
   "outputs": [
    {
     "name": "stdout",
     "output_type": "stream",
     "text": [
      "Customer did not show interest in the recommended policy: 76.01 %\n",
      "Customer showed interest in the recommended policy:      23.99 %\n"
     ]
    }
   ],
   "source": [
    "frq=train['Response'].value_counts()\n",
    "\n",
    "Not_Interested=frq[0]/(frq[0]+frq[1])*100\n",
    "print(\"Customer did not show interest in the recommended policy: {:.2f} %\".format(Not_Interested))\n",
    "\n",
    "Interested=frq[1]/(frq[0]+frq[1])*100\n",
    "print(\"Customer showed interest in the recommended policy:      {:.2f} %\".format(Interested))"
   ]
  },
  {
   "cell_type": "markdown",
   "metadata": {},
   "source": [
    "##### : So , Imbalance Data"
   ]
  },
  {
   "cell_type": "code",
   "execution_count": 15,
   "metadata": {},
   "outputs": [
    {
     "data": {
      "image/png": "[encoded data removed]",
      "text/plain": [
       "<Figure size 432x288 with 1 Axes>"
      ]
     },
     "metadata": {
      "needs_background": "light"
     },
     "output_type": "display_data"
    }
   ],
   "source": [
    "train.hist('Reco_Policy_Premium', bins = 15)\n",
    "plt.xlabel('Reco_Policy_Premium')\n",
    "plt.ylabel('No. of Customers')\n",
    "plt.show()"
   ]
  },
  {
   "cell_type": "code",
   "execution_count": 16,
   "metadata": {},
   "outputs": [
    {
     "data": {
      "image/png": "[encoded data removed]",
      "text/plain": [
       "<Figure size 432x288 with 1 Axes>"
      ]
     },
     "metadata": {
      "needs_background": "light"
     },
     "output_type": "display_data"
    }
   ],
   "source": [
    "train[train['Response']==0]['Reco_Policy_Premium'].hist(alpha=.5,color='blue',bins=30,label='Not interest')\n",
    "train[train['Response']==1]['Reco_Policy_Premium'].hist(alpha=.5,color='k',bins=30,label='Interest')\n",
    "plt.legend()\n",
    "plt.xlabel('Reco_Policy_Premium')\n",
    "plt.ylabel('No. of Customers')\n",
    "plt.show()"
   ]
  },
  {
   "cell_type": "code",
   "execution_count": 17,
   "metadata": {},
   "outputs": [
    {
     "data": {
      "image/png": "[encoded data removed]",
      "text/plain": [
       "<Figure size 432x288 with 2 Axes>"
      ]
     },
     "metadata": {
      "needs_background": "light"
     },
     "output_type": "display_data"
    }
   ],
   "source": [
    "sns.heatmap(train.corr(),annot=True)\n",
    "plt.show()"
   ]
  },
  {
   "cell_type": "markdown",
   "metadata": {},
   "source": [
    "### Dropping Some Columns:"
   ]
  },
  {
   "cell_type": "code",
   "execution_count": 18,
   "metadata": {},
   "outputs": [],
   "source": [
    "train.drop(['ID','City_Code','Region_Code','Lower_Age'],axis=1,inplace=True)\n",
    "test.drop(['ID','City_Code','Region_Code','Lower_Age'],axis=1,inplace=True)"
   ]
  },
  {
   "cell_type": "code",
   "execution_count": 19,
   "metadata": {},
   "outputs": [
    {
     "data": {
      "text/html": [
       "<div>\n",
       "<style scoped>\n",
       "    .dataframe tbody tr th:only-of-type {\n",
       "        vertical-align: middle;\n",
       "    }\n",
       "\n",
       "    .dataframe tbody tr th {\n",
       "        vertical-align: top;\n",
       "    }\n",
       "\n",
       "    .dataframe thead th {\n",
       "        text-align: right;\n",
       "    }\n",
       "</style>\n",
       "<table border=\"1\" class=\"dataframe\">\n",
       "  <thead>\n",
       "    <tr style=\"text-align: right;\">\n",
       "      <th></th>\n",
       "      <th>Accomodation_Type</th>\n",
       "      <th>Reco_Insurance_Type</th>\n",
       "      <th>Upper_Age</th>\n",
       "      <th>Is_Spouse</th>\n",
       "      <th>Health Indicator</th>\n",
       "      <th>Holding_Policy_Duration</th>\n",
       "      <th>Holding_Policy_Type</th>\n",
       "      <th>Reco_Policy_Cat</th>\n",
       "      <th>Reco_Policy_Premium</th>\n",
       "      <th>Response</th>\n",
       "    </tr>\n",
       "  </thead>\n",
       "  <tbody>\n",
       "    <tr>\n",
       "      <th>0</th>\n",
       "      <td>Rented</td>\n",
       "      <td>Individual</td>\n",
       "      <td>36</td>\n",
       "      <td>No</td>\n",
       "      <td>X1</td>\n",
       "      <td>14+</td>\n",
       "      <td>3.0</td>\n",
       "      <td>22</td>\n",
       "      <td>11628.0</td>\n",
       "      <td>0</td>\n",
       "    </tr>\n",
       "    <tr>\n",
       "      <th>1</th>\n",
       "      <td>Owned</td>\n",
       "      <td>Joint</td>\n",
       "      <td>75</td>\n",
       "      <td>No</td>\n",
       "      <td>X2</td>\n",
       "      <td>NaN</td>\n",
       "      <td>NaN</td>\n",
       "      <td>22</td>\n",
       "      <td>30510.0</td>\n",
       "      <td>0</td>\n",
       "    </tr>\n",
       "  </tbody>\n",
       "</table>\n",
       "</div>"
      ],
      "text/plain": [
       "  Accomodation_Type Reco_Insurance_Type  Upper_Age Is_Spouse Health Indicator  \\\n",
       "0            Rented          Individual         36        No               X1   \n",
       "1             Owned               Joint         75        No               X2   \n",
       "\n",
       "  Holding_Policy_Duration  Holding_Policy_Type  Reco_Policy_Cat  \\\n",
       "0                     14+                  3.0               22   \n",
       "1                     NaN                  NaN               22   \n",
       "\n",
       "   Reco_Policy_Premium  Response  \n",
       "0              11628.0         0  \n",
       "1              30510.0         0  "
      ]
     },
     "execution_count": 19,
     "metadata": {},
     "output_type": "execute_result"
    }
   ],
   "source": [
    "train.head(2)"
   ]
  },
  {
   "cell_type": "markdown",
   "metadata": {},
   "source": [
    "### Missing Values:"
   ]
  },
  {
   "cell_type": "code",
   "execution_count": 20,
   "metadata": {},
   "outputs": [
    {
     "data": {
      "text/plain": [
       "Accomodation_Type              0\n",
       "Reco_Insurance_Type            0\n",
       "Upper_Age                      0\n",
       "Is_Spouse                      0\n",
       "Health Indicator           11691\n",
       "Holding_Policy_Duration    20251\n",
       "Holding_Policy_Type        20251\n",
       "Reco_Policy_Cat                0\n",
       "Reco_Policy_Premium            0\n",
       "Response                       0\n",
       "dtype: int64"
      ]
     },
     "execution_count": 20,
     "metadata": {},
     "output_type": "execute_result"
    }
   ],
   "source": [
    "train.isna().sum()"
   ]
  },
  {
   "cell_type": "markdown",
   "metadata": {},
   "source": [
    "### Already Not Holding Any Policy: replace NA by 0:"
   ]
  },
  {
   "cell_type": "code",
   "execution_count": 21,
   "metadata": {},
   "outputs": [],
   "source": [
    "#Imputing with 0\n",
    "train['Holding_Policy_Duration']= train['Holding_Policy_Duration'].fillna(0)\n",
    "test['Holding_Policy_Duration']= test['Holding_Policy_Duration'].fillna(0)"
   ]
  },
  {
   "cell_type": "code",
   "execution_count": 22,
   "metadata": {},
   "outputs": [],
   "source": [
    "#Imputing with 0\n",
    "train['Holding_Policy_Type']= train['Holding_Policy_Type'].fillna(0)\n",
    "test['Holding_Policy_Type']= test['Holding_Policy_Type'].fillna(0)"
   ]
  },
  {
   "cell_type": "markdown",
   "metadata": {},
   "source": [
    "### Replacing '14+' in \"Holding_Policy_Duration\" by 15, and Converting it to Numeric Type:"
   ]
  },
  {
   "cell_type": "code",
   "execution_count": 23,
   "metadata": {},
   "outputs": [],
   "source": [
    "train.loc[train.Holding_Policy_Duration == '14+',\"Holding_Policy_Duration\"] =15\n",
    "train.Holding_Policy_Duration = pd.to_numeric(train.Holding_Policy_Duration)\n",
    "\n",
    "test.loc[test.Holding_Policy_Duration == '14+',\"Holding_Policy_Duration\"] =15\n",
    "test.Holding_Policy_Duration = pd.to_numeric(test.Holding_Policy_Duration)"
   ]
  },
  {
   "cell_type": "markdown",
   "metadata": {},
   "source": [
    "### Convert 'Upper_Age' into a category of 4 groups 'Age_bins':"
   ]
  },
  {
   "cell_type": "code",
   "execution_count": 24,
   "metadata": {},
   "outputs": [],
   "source": [
    "train['Age_bins']=pd.cut(train['Upper_Age'],[0,28,44,60,100],labels=[1,2,3,4])\n",
    "train.drop(['Upper_Age'],axis=1,inplace=True)"
   ]
  },
  {
   "cell_type": "code",
   "execution_count": 25,
   "metadata": {},
   "outputs": [],
   "source": [
    "test['Age_bins']=pd.cut(test['Upper_Age'],[0,28,44,60,100],labels=[1,2,3,4])\n",
    "test.drop(['Upper_Age'],axis=1,inplace=True)"
   ]
  },
  {
   "cell_type": "markdown",
   "metadata": {},
   "source": [
    "### Convert 'Reco_Policy_Premium' into a category of 6 groups 'Reco_Policy_Premium_bins':"
   ]
  },
  {
   "cell_type": "code",
   "execution_count": 26,
   "metadata": {},
   "outputs": [],
   "source": [
    "train['Reco_Policy_Premium_bins']=pd.cut(train['Reco_Policy_Premium'],[0,5000,10000,15000,20000,25000,50000],labels=[1,2,3,4,5,6])\n",
    "train.drop(['Reco_Policy_Premium'],axis=1,inplace=True)"
   ]
  },
  {
   "cell_type": "code",
   "execution_count": 27,
   "metadata": {},
   "outputs": [],
   "source": [
    "test['Reco_Policy_Premium_bins']=pd.cut(test['Reco_Policy_Premium'],[0,5000,10000,15000,20000,25000,50000],labels=[1,2,3,4,5,6])\n",
    "test.drop(['Reco_Policy_Premium'],axis=1,inplace=True)"
   ]
  },
  {
   "cell_type": "markdown",
   "metadata": {},
   "source": [
    "### Seperate Features and Target:"
   ]
  },
  {
   "cell_type": "code",
   "execution_count": 28,
   "metadata": {},
   "outputs": [],
   "source": [
    "X= train.drop(columns = ['Response'], axis=1)\n",
    "y= train['Response']"
   ]
  },
  {
   "cell_type": "code",
   "execution_count": 29,
   "metadata": {},
   "outputs": [
    {
     "data": {
      "text/html": [
       "<div>\n",
       "<style scoped>\n",
       "    .dataframe tbody tr th:only-of-type {\n",
       "        vertical-align: middle;\n",
       "    }\n",
       "\n",
       "    .dataframe tbody tr th {\n",
       "        vertical-align: top;\n",
       "    }\n",
       "\n",
       "    .dataframe thead th {\n",
       "        text-align: right;\n",
       "    }\n",
       "</style>\n",
       "<table border=\"1\" class=\"dataframe\">\n",
       "  <thead>\n",
       "    <tr style=\"text-align: right;\">\n",
       "      <th></th>\n",
       "      <th>Accomodation_Type</th>\n",
       "      <th>Reco_Insurance_Type</th>\n",
       "      <th>Is_Spouse</th>\n",
       "      <th>Health Indicator</th>\n",
       "      <th>Holding_Policy_Duration</th>\n",
       "      <th>Holding_Policy_Type</th>\n",
       "      <th>Reco_Policy_Cat</th>\n",
       "      <th>Age_bins</th>\n",
       "      <th>Reco_Policy_Premium_bins</th>\n",
       "    </tr>\n",
       "  </thead>\n",
       "  <tbody>\n",
       "    <tr>\n",
       "      <th>0</th>\n",
       "      <td>Rented</td>\n",
       "      <td>Individual</td>\n",
       "      <td>No</td>\n",
       "      <td>X1</td>\n",
       "      <td>15.0</td>\n",
       "      <td>3.0</td>\n",
       "      <td>22</td>\n",
       "      <td>2</td>\n",
       "      <td>3</td>\n",
       "    </tr>\n",
       "    <tr>\n",
       "      <th>1</th>\n",
       "      <td>Owned</td>\n",
       "      <td>Joint</td>\n",
       "      <td>No</td>\n",
       "      <td>X2</td>\n",
       "      <td>0.0</td>\n",
       "      <td>0.0</td>\n",
       "      <td>22</td>\n",
       "      <td>4</td>\n",
       "      <td>6</td>\n",
       "    </tr>\n",
       "  </tbody>\n",
       "</table>\n",
       "</div>"
      ],
      "text/plain": [
       "  Accomodation_Type Reco_Insurance_Type Is_Spouse Health Indicator  \\\n",
       "0            Rented          Individual        No               X1   \n",
       "1             Owned               Joint        No               X2   \n",
       "\n",
       "   Holding_Policy_Duration  Holding_Policy_Type  Reco_Policy_Cat Age_bins  \\\n",
       "0                     15.0                  3.0               22        2   \n",
       "1                      0.0                  0.0               22        4   \n",
       "\n",
       "  Reco_Policy_Premium_bins  \n",
       "0                        3  \n",
       "1                        6  "
      ]
     },
     "execution_count": 29,
     "metadata": {},
     "output_type": "execute_result"
    }
   ],
   "source": [
    "X.head(2)"
   ]
  },
  {
   "cell_type": "markdown",
   "metadata": {},
   "source": [
    "### category_encoders:\n",
    "On Ordinal Categorical columns and with High Cardinality"
   ]
  },
  {
   "cell_type": "code",
   "execution_count": 30,
   "metadata": {},
   "outputs": [],
   "source": [
    "from category_encoders import TargetEncoder"
   ]
  },
  {
   "cell_type": "code",
   "execution_count": 31,
   "metadata": {},
   "outputs": [],
   "source": [
    "enc = TargetEncoder(cols=['Health Indicator','Holding_Policy_Type','Reco_Policy_Cat'])"
   ]
  },
  {
   "cell_type": "code",
   "execution_count": 32,
   "metadata": {},
   "outputs": [],
   "source": [
    "X = enc.fit_transform(X, y)"
   ]
  },
  {
   "cell_type": "code",
   "execution_count": 33,
   "metadata": {},
   "outputs": [],
   "source": [
    "test = enc.transform(test)"
   ]
  },
  {
   "cell_type": "code",
   "execution_count": 34,
   "metadata": {},
   "outputs": [
    {
     "data": {
      "text/html": [
       "<div>\n",
       "<style scoped>\n",
       "    .dataframe tbody tr th:only-of-type {\n",
       "        vertical-align: middle;\n",
       "    }\n",
       "\n",
       "    .dataframe tbody tr th {\n",
       "        vertical-align: top;\n",
       "    }\n",
       "\n",
       "    .dataframe thead th {\n",
       "        text-align: right;\n",
       "    }\n",
       "</style>\n",
       "<table border=\"1\" class=\"dataframe\">\n",
       "  <thead>\n",
       "    <tr style=\"text-align: right;\">\n",
       "      <th></th>\n",
       "      <th>Accomodation_Type</th>\n",
       "      <th>Reco_Insurance_Type</th>\n",
       "      <th>Is_Spouse</th>\n",
       "      <th>Health Indicator</th>\n",
       "      <th>Holding_Policy_Duration</th>\n",
       "      <th>Holding_Policy_Type</th>\n",
       "      <th>Reco_Policy_Cat</th>\n",
       "      <th>Age_bins</th>\n",
       "      <th>Reco_Policy_Premium_bins</th>\n",
       "    </tr>\n",
       "  </thead>\n",
       "  <tbody>\n",
       "    <tr>\n",
       "      <th>0</th>\n",
       "      <td>Rented</td>\n",
       "      <td>Individual</td>\n",
       "      <td>No</td>\n",
       "      <td>0.244120</td>\n",
       "      <td>15.0</td>\n",
       "      <td>0.242262</td>\n",
       "      <td>0.328385</td>\n",
       "      <td>2</td>\n",
       "      <td>3</td>\n",
       "    </tr>\n",
       "    <tr>\n",
       "      <th>1</th>\n",
       "      <td>Owned</td>\n",
       "      <td>Joint</td>\n",
       "      <td>No</td>\n",
       "      <td>0.241096</td>\n",
       "      <td>0.0</td>\n",
       "      <td>0.238951</td>\n",
       "      <td>0.328385</td>\n",
       "      <td>4</td>\n",
       "      <td>6</td>\n",
       "    </tr>\n",
       "  </tbody>\n",
       "</table>\n",
       "</div>"
      ],
      "text/plain": [
       "  Accomodation_Type Reco_Insurance_Type Is_Spouse  Health Indicator  \\\n",
       "0            Rented          Individual        No          0.244120   \n",
       "1             Owned               Joint        No          0.241096   \n",
       "\n",
       "   Holding_Policy_Duration  Holding_Policy_Type  Reco_Policy_Cat Age_bins  \\\n",
       "0                     15.0             0.242262         0.328385        2   \n",
       "1                      0.0             0.238951         0.328385        4   \n",
       "\n",
       "  Reco_Policy_Premium_bins  \n",
       "0                        3  \n",
       "1                        6  "
      ]
     },
     "execution_count": 34,
     "metadata": {},
     "output_type": "execute_result"
    }
   ],
   "source": [
    "X.head(2)"
   ]
  },
  {
   "cell_type": "code",
   "execution_count": 35,
   "metadata": {},
   "outputs": [
    {
     "data": {
      "text/plain": [
       "0"
      ]
     },
     "execution_count": 35,
     "metadata": {},
     "output_type": "execute_result"
    }
   ],
   "source": [
    "X.isna().sum().sum()"
   ]
  },
  {
   "cell_type": "markdown",
   "metadata": {},
   "source": [
    "### Labelencoding:"
   ]
  },
  {
   "cell_type": "code",
   "execution_count": 36,
   "metadata": {},
   "outputs": [],
   "source": [
    "from sklearn.preprocessing import LabelEncoder\n",
    "le = LabelEncoder()"
   ]
  },
  {
   "cell_type": "code",
   "execution_count": 37,
   "metadata": {},
   "outputs": [],
   "source": [
    "var_mod =X.columns"
   ]
  },
  {
   "cell_type": "code",
   "execution_count": 38,
   "metadata": {},
   "outputs": [],
   "source": [
    "for i in var_mod:\n",
    "    X[i] = le.fit_transform(X[i])\n",
    "    \n",
    "for i in var_mod:\n",
    "    test[i] = le.fit_transform(test[i])"
   ]
  },
  {
   "cell_type": "markdown",
   "metadata": {},
   "source": [
    "### One Hot Coding:\n",
    "On Nominal Categorical column , with Low Cardinality"
   ]
  },
  {
   "cell_type": "code",
   "execution_count": 39,
   "metadata": {},
   "outputs": [],
   "source": [
    "X = pd.get_dummies(X, columns=['Holding_Policy_Type'],drop_first=True)\n",
    "\n",
    "test = pd.get_dummies(test, columns=['Holding_Policy_Type'],drop_first=True)"
   ]
  },
  {
   "cell_type": "code",
   "execution_count": 40,
   "metadata": {},
   "outputs": [
    {
     "data": {
      "text/plain": [
       "((50882, 12), (21805, 12))"
      ]
     },
     "execution_count": 40,
     "metadata": {},
     "output_type": "execute_result"
    }
   ],
   "source": [
    "X.shape   ,  test.shape "
   ]
  },
  {
   "cell_type": "code",
   "execution_count": 41,
   "metadata": {},
   "outputs": [
    {
     "data": {
      "text/html": [
       "<div>\n",
       "<style scoped>\n",
       "    .dataframe tbody tr th:only-of-type {\n",
       "        vertical-align: middle;\n",
       "    }\n",
       "\n",
       "    .dataframe tbody tr th {\n",
       "        vertical-align: top;\n",
       "    }\n",
       "\n",
       "    .dataframe thead th {\n",
       "        text-align: right;\n",
       "    }\n",
       "</style>\n",
       "<table border=\"1\" class=\"dataframe\">\n",
       "  <thead>\n",
       "    <tr style=\"text-align: right;\">\n",
       "      <th></th>\n",
       "      <th>Accomodation_Type</th>\n",
       "      <th>Reco_Insurance_Type</th>\n",
       "      <th>Is_Spouse</th>\n",
       "      <th>Health Indicator</th>\n",
       "      <th>Holding_Policy_Duration</th>\n",
       "      <th>Reco_Policy_Cat</th>\n",
       "      <th>Age_bins</th>\n",
       "      <th>Reco_Policy_Premium_bins</th>\n",
       "      <th>Holding_Policy_Type_1</th>\n",
       "      <th>Holding_Policy_Type_2</th>\n",
       "      <th>Holding_Policy_Type_3</th>\n",
       "      <th>Holding_Policy_Type_4</th>\n",
       "    </tr>\n",
       "  </thead>\n",
       "  <tbody>\n",
       "    <tr>\n",
       "      <th>0</th>\n",
       "      <td>1</td>\n",
       "      <td>0</td>\n",
       "      <td>0</td>\n",
       "      <td>8</td>\n",
       "      <td>15</td>\n",
       "      <td>20</td>\n",
       "      <td>1</td>\n",
       "      <td>2</td>\n",
       "      <td>0</td>\n",
       "      <td>0</td>\n",
       "      <td>1</td>\n",
       "      <td>0</td>\n",
       "    </tr>\n",
       "    <tr>\n",
       "      <th>1</th>\n",
       "      <td>0</td>\n",
       "      <td>1</td>\n",
       "      <td>0</td>\n",
       "      <td>6</td>\n",
       "      <td>0</td>\n",
       "      <td>20</td>\n",
       "      <td>3</td>\n",
       "      <td>5</td>\n",
       "      <td>0</td>\n",
       "      <td>1</td>\n",
       "      <td>0</td>\n",
       "      <td>0</td>\n",
       "    </tr>\n",
       "  </tbody>\n",
       "</table>\n",
       "</div>"
      ],
      "text/plain": [
       "   Accomodation_Type  Reco_Insurance_Type  Is_Spouse  Health Indicator  \\\n",
       "0                  1                    0          0                 8   \n",
       "1                  0                    1          0                 6   \n",
       "\n",
       "   Holding_Policy_Duration  Reco_Policy_Cat  Age_bins  \\\n",
       "0                       15               20         1   \n",
       "1                        0               20         3   \n",
       "\n",
       "   Reco_Policy_Premium_bins  Holding_Policy_Type_1  Holding_Policy_Type_2  \\\n",
       "0                         2                      0                      0   \n",
       "1                         5                      0                      1   \n",
       "\n",
       "   Holding_Policy_Type_3  Holding_Policy_Type_4  \n",
       "0                      1                      0  \n",
       "1                      0                      0  "
      ]
     },
     "execution_count": 41,
     "metadata": {},
     "output_type": "execute_result"
    }
   ],
   "source": [
    "X.head(2)"
   ]
  },
  {
   "cell_type": "markdown",
   "metadata": {},
   "source": [
    "### Applying Oversampling and Undersampling:"
   ]
  },
  {
   "cell_type": "code",
   "execution_count": 42,
   "metadata": {},
   "outputs": [
    {
     "name": "stdout",
     "output_type": "stream",
     "text": [
      "Oversampled: Counter({0: 38673, 1: 12209})\n"
     ]
    }
   ],
   "source": [
    "from collections import Counter\n",
    "\n",
    "print(f\"Oversampled: {Counter(y)}\")"
   ]
  },
  {
   "cell_type": "code",
   "execution_count": 43,
   "metadata": {},
   "outputs": [
    {
     "name": "stdout",
     "output_type": "stream",
     "text": [
      "Oversampled: Counter({0: 38673, 1: 34805})\n"
     ]
    }
   ],
   "source": [
    "from imblearn.over_sampling import RandomOverSampler\n",
    "from imblearn.under_sampling import RandomUnderSampler\n",
    "\n",
    "# instantiating over and under sampler\n",
    "over = RandomOverSampler(sampling_strategy=0.9)\n",
    "\n",
    "# first performing oversampling to minority class\n",
    "X_over, y_over = over.fit_resample(X, y)\n",
    "\n",
    "from collections import Counter\n",
    "\n",
    "print(f\"Oversampled: {Counter(y_over)}\")"
   ]
  },
  {
   "cell_type": "code",
   "execution_count": 44,
   "metadata": {},
   "outputs": [
    {
     "name": "stdout",
     "output_type": "stream",
     "text": [
      "Combined Random Sampling: Counter({0: 38672, 1: 34805})\n"
     ]
    }
   ],
   "source": [
    "# now to comine under sampling \n",
    "under = RandomUnderSampler(sampling_strategy=0.9)\n",
    "\n",
    "X, y = under.fit_resample(X_over, y_over)\n",
    "print(f\"Combined Random Sampling: {Counter(y)}\")"
   ]
  },
  {
   "cell_type": "markdown",
   "metadata": {},
   "source": [
    "### 20% data as validation set:"
   ]
  },
  {
   "cell_type": "code",
   "execution_count": 45,
   "metadata": {},
   "outputs": [],
   "source": [
    "X_train,X_valid,y_train,y_valid = train_test_split(X,y,test_size=0.2,random_state=22, stratify= y)"
   ]
  },
  {
   "cell_type": "code",
   "execution_count": 46,
   "metadata": {},
   "outputs": [
    {
     "data": {
      "text/plain": [
       "((58781, 12), (14696, 12), (58781,), (14696,))"
      ]
     },
     "execution_count": 46,
     "metadata": {},
     "output_type": "execute_result"
    }
   ],
   "source": [
    "X_train.shape , X_valid.shape, y_train.shape ,y_valid.shape"
   ]
  },
  {
   "cell_type": "markdown",
   "metadata": {},
   "source": [
    "***\n",
    "### Building a Model:"
   ]
  },
  {
   "cell_type": "markdown",
   "metadata": {},
   "source": [
    "### LogisticRegression:"
   ]
  },
  {
   "cell_type": "code",
   "execution_count": 199,
   "metadata": {},
   "outputs": [],
   "source": [
    "from sklearn.linear_model import LogisticRegression\n",
    "logR=LogisticRegression()"
   ]
  },
  {
   "cell_type": "code",
   "execution_count": 200,
   "metadata": {},
   "outputs": [
    {
     "data": {
      "text/plain": [
       "LogisticRegression()"
      ]
     },
     "execution_count": 200,
     "metadata": {},
     "output_type": "execute_result"
    }
   ],
   "source": [
    "logR.fit(X_train,y_train)"
   ]
  },
  {
   "cell_type": "code",
   "execution_count": 201,
   "metadata": {},
   "outputs": [],
   "source": [
    "predicted_logR=logR.predict(X_valid)"
   ]
  },
  {
   "cell_type": "code",
   "execution_count": 202,
   "metadata": {},
   "outputs": [
    {
     "data": {
      "text/plain": [
       "array([[5011, 2724],\n",
       "       [3347, 3614]], dtype=int64)"
      ]
     },
     "execution_count": 202,
     "metadata": {},
     "output_type": "execute_result"
    }
   ],
   "source": [
    "confusion_matrix(y_valid,predicted_logR)"
   ]
  },
  {
   "cell_type": "code",
   "execution_count": 203,
   "metadata": {},
   "outputs": [
    {
     "data": {
      "text/plain": [
       "0.5868943930321175"
      ]
     },
     "execution_count": 203,
     "metadata": {},
     "output_type": "execute_result"
    }
   ],
   "source": [
    "accuracy_score(y_valid,predicted_logR)"
   ]
  },
  {
   "cell_type": "code",
   "execution_count": 204,
   "metadata": {},
   "outputs": [
    {
     "name": "stdout",
     "output_type": "stream",
     "text": [
      "              precision    recall  f1-score   support\n",
      "\n",
      "           0       0.60      0.65      0.62      7735\n",
      "           1       0.57      0.52      0.54      6961\n",
      "\n",
      "    accuracy                           0.59     14696\n",
      "   macro avg       0.58      0.58      0.58     14696\n",
      "weighted avg       0.59      0.59      0.59     14696\n",
      "\n"
     ]
    }
   ],
   "source": [
    "print(classification_report(y_valid,predicted_logR))"
   ]
  },
  {
   "cell_type": "markdown",
   "metadata": {},
   "source": [
    "### XgBoost with Cross Validation:"
   ]
  },
  {
   "cell_type": "code",
   "execution_count": 190,
   "metadata": {},
   "outputs": [],
   "source": [
    "from xgboost import XGBClassifier\n",
    "modelXgb = XGBClassifier()"
   ]
  },
  {
   "cell_type": "code",
   "execution_count": 191,
   "metadata": {},
   "outputs": [
    {
     "name": "stdout",
     "output_type": "stream",
     "text": [
      "[16:19:19] WARNING: C:/Users/Administrator/workspace/xgboost-win64_release_1.3.0/src/learner.cc:1061: Starting in XGBoost 1.3.0, the default evaluation metric used with the objective 'binary:logistic' was changed from 'error' to 'logloss'. Explicitly set eval_metric if you'd like to restore the old behavior.\n"
     ]
    },
    {
     "data": {
      "text/plain": [
       "XGBClassifier(base_score=0.5, booster='gbtree', colsample_bylevel=1,\n",
       "              colsample_bynode=1, colsample_bytree=1, gamma=0, gpu_id=-1,\n",
       "              importance_type='gain', interaction_constraints='',\n",
       "              learning_rate=0.300000012, max_delta_step=0, max_depth=6,\n",
       "              min_child_weight=1, missing=nan, monotone_constraints='()',\n",
       "              n_estimators=100, n_jobs=8, num_parallel_tree=1, random_state=0,\n",
       "              reg_alpha=0, reg_lambda=1, scale_pos_weight=1, subsample=1,\n",
       "              tree_method='exact', validate_parameters=1, verbosity=None)"
      ]
     },
     "execution_count": 191,
     "metadata": {},
     "output_type": "execute_result"
    }
   ],
   "source": [
    "modelXgb.fit(X_train, y_train)"
   ]
  },
  {
   "cell_type": "code",
   "execution_count": 192,
   "metadata": {},
   "outputs": [],
   "source": [
    "from sklearn import model_selection\n",
    "kfold = model_selection.KFold(n_splits=5)"
   ]
  },
  {
   "cell_type": "code",
   "execution_count": 193,
   "metadata": {},
   "outputs": [
    {
     "name": "stdout",
     "output_type": "stream",
     "text": [
      "[16:19:20] WARNING: C:/Users/Administrator/workspace/xgboost-win64_release_1.3.0/src/learner.cc:1061: Starting in XGBoost 1.3.0, the default evaluation metric used with the objective 'binary:logistic' was changed from 'error' to 'logloss'. Explicitly set eval_metric if you'd like to restore the old behavior.\n",
      "[16:19:21] WARNING: C:/Users/Administrator/workspace/xgboost-win64_release_1.3.0/src/learner.cc:1061: Starting in XGBoost 1.3.0, the default evaluation metric used with the objective 'binary:logistic' was changed from 'error' to 'logloss'. Explicitly set eval_metric if you'd like to restore the old behavior.\n",
      "[16:19:22] WARNING: C:/Users/Administrator/workspace/xgboost-win64_release_1.3.0/src/learner.cc:1061: Starting in XGBoost 1.3.0, the default evaluation metric used with the objective 'binary:logistic' was changed from 'error' to 'logloss'. Explicitly set eval_metric if you'd like to restore the old behavior.\n",
      "[16:19:23] WARNING: C:/Users/Administrator/workspace/xgboost-win64_release_1.3.0/src/learner.cc:1061: Starting in XGBoost 1.3.0, the default evaluation metric used with the objective 'binary:logistic' was changed from 'error' to 'logloss'. Explicitly set eval_metric if you'd like to restore the old behavior.\n",
      "[16:19:25] WARNING: C:/Users/Administrator/workspace/xgboost-win64_release_1.3.0/src/learner.cc:1061: Starting in XGBoost 1.3.0, the default evaluation metric used with the objective 'binary:logistic' was changed from 'error' to 'logloss'. Explicitly set eval_metric if you'd like to restore the old behavior.\n"
     ]
    }
   ],
   "source": [
    "resultsXgb = model_selection.cross_val_score(modelXgb,X_train,y_train,cv=kfold)"
   ]
  },
  {
   "cell_type": "code",
   "execution_count": 194,
   "metadata": {},
   "outputs": [
    {
     "data": {
      "text/plain": [
       "0.6330106570262861"
      ]
     },
     "execution_count": 194,
     "metadata": {},
     "output_type": "execute_result"
    }
   ],
   "source": [
    "resultsXgb.mean()"
   ]
  },
  {
   "cell_type": "code",
   "execution_count": 195,
   "metadata": {},
   "outputs": [],
   "source": [
    "predicted_Xgb=modelXgb.predict(X_valid)"
   ]
  },
  {
   "cell_type": "code",
   "execution_count": 196,
   "metadata": {},
   "outputs": [
    {
     "data": {
      "text/plain": [
       "array([[4899, 2836],\n",
       "       [2412, 4549]], dtype=int64)"
      ]
     },
     "execution_count": 196,
     "metadata": {},
     "output_type": "execute_result"
    }
   ],
   "source": [
    "confusion_matrix(y_valid,predicted_Xgb)"
   ]
  },
  {
   "cell_type": "code",
   "execution_count": 197,
   "metadata": {},
   "outputs": [
    {
     "data": {
      "text/plain": [
       "0.6428960261295591"
      ]
     },
     "execution_count": 197,
     "metadata": {},
     "output_type": "execute_result"
    }
   ],
   "source": [
    "accuracy_score(y_valid,predicted_Xgb)"
   ]
  },
  {
   "cell_type": "code",
   "execution_count": 198,
   "metadata": {},
   "outputs": [
    {
     "name": "stdout",
     "output_type": "stream",
     "text": [
      "              precision    recall  f1-score   support\n",
      "\n",
      "           0       0.67      0.63      0.65      7735\n",
      "           1       0.62      0.65      0.63      6961\n",
      "\n",
      "    accuracy                           0.64     14696\n",
      "   macro avg       0.64      0.64      0.64     14696\n",
      "weighted avg       0.64      0.64      0.64     14696\n",
      "\n"
     ]
    }
   ],
   "source": [
    "print(classification_report(y_valid,predicted_Xgb))"
   ]
  },
  {
   "cell_type": "markdown",
   "metadata": {},
   "source": [
    "### RandomForestClassifier:"
   ]
  },
  {
   "cell_type": "code",
   "execution_count": 47,
   "metadata": {},
   "outputs": [],
   "source": [
    "from sklearn.ensemble import RandomForestClassifier\n",
    "modelRF = RandomForestClassifier()"
   ]
  },
  {
   "cell_type": "code",
   "execution_count": 48,
   "metadata": {},
   "outputs": [
    {
     "data": {
      "text/plain": [
       "RandomForestClassifier()"
      ]
     },
     "execution_count": 48,
     "metadata": {},
     "output_type": "execute_result"
    }
   ],
   "source": [
    "modelRF.fit(X_train, y_train)"
   ]
  },
  {
   "cell_type": "code",
   "execution_count": 49,
   "metadata": {},
   "outputs": [],
   "source": [
    "predicted_RF=modelRF.predict(X_valid)"
   ]
  },
  {
   "cell_type": "code",
   "execution_count": 50,
   "metadata": {},
   "outputs": [
    {
     "data": {
      "text/plain": [
       "array([[5459, 2276],\n",
       "       [1431, 5530]], dtype=int64)"
      ]
     },
     "execution_count": 50,
     "metadata": {},
     "output_type": "execute_result"
    }
   ],
   "source": [
    "confusion_matrix(y_valid,predicted_RF)"
   ]
  },
  {
   "cell_type": "code",
   "execution_count": 51,
   "metadata": {},
   "outputs": [
    {
     "data": {
      "text/plain": [
       "0.7477544910179641"
      ]
     },
     "execution_count": 51,
     "metadata": {},
     "output_type": "execute_result"
    }
   ],
   "source": [
    "accuracy_score(y_valid,predicted_RF)"
   ]
  },
  {
   "cell_type": "code",
   "execution_count": 52,
   "metadata": {},
   "outputs": [
    {
     "name": "stdout",
     "output_type": "stream",
     "text": [
      "              precision    recall  f1-score   support\n",
      "\n",
      "           0       0.79      0.71      0.75      7735\n",
      "           1       0.71      0.79      0.75      6961\n",
      "\n",
      "    accuracy                           0.75     14696\n",
      "   macro avg       0.75      0.75      0.75     14696\n",
      "weighted avg       0.75      0.75      0.75     14696\n",
      "\n"
     ]
    }
   ],
   "source": [
    "print(classification_report(y_valid,predicted_RF))"
   ]
  },
  {
   "cell_type": "markdown",
   "metadata": {},
   "source": [
    "# ANN1:"
   ]
  },
  {
   "cell_type": "code",
   "execution_count": 205,
   "metadata": {},
   "outputs": [
    {
     "data": {
      "text/plain": [
       "((58781, 12), (58781,), (21805, 12))"
      ]
     },
     "execution_count": 205,
     "metadata": {},
     "output_type": "execute_result"
    }
   ],
   "source": [
    "X_train.shape, y_train.shape,test.shape"
   ]
  },
  {
   "cell_type": "code",
   "execution_count": 206,
   "metadata": {},
   "outputs": [],
   "source": [
    "import tensorflow as tf\n",
    "from tensorflow import keras"
   ]
  },
  {
   "cell_type": "code",
   "execution_count": 207,
   "metadata": {},
   "outputs": [],
   "source": [
    "modelANNFinal = keras.models.Sequential(\n",
    "    [\n",
    "        keras.layers.Dense(60,input_shape=X_train.shape[1:],activation=\"relu\"),\n",
    "        keras.layers.Dense(60, activation=\"relu\"),\n",
    "        keras.layers.Dense(60, activation=\"relu\"),\n",
    "        keras.layers.Dropout(rate=0.1),\n",
    "        keras.layers.Dense(60, activation=\"relu\"),\n",
    "        keras.layers.Dense(60, activation=\"relu\"),\n",
    "        keras.layers.Dense(60, activation=\"relu\"),\n",
    "        keras.layers.Dense(60, activation=\"relu\"),\n",
    "        keras.layers.Dropout(rate=0.1),\n",
    "        keras.layers.Dense(60, activation=\"relu\"),\n",
    "        keras.layers.Dense(60, activation=\"relu\"),\n",
    "        keras.layers.Dense(30, activation=\"relu\"),\n",
    "        keras.layers.Dense(1, activation=\"sigmoid\")\n",
    "    ]\n",
    ")"
   ]
  },
  {
   "cell_type": "code",
   "execution_count": 208,
   "metadata": {},
   "outputs": [],
   "source": [
    "modelANNFinal.compile(optimizer = 'adam', loss = 'binary_crossentropy', metrics = ['accuracy'])"
   ]
  },
  {
   "cell_type": "code",
   "execution_count": 209,
   "metadata": {},
   "outputs": [],
   "source": [
    "early_stopping_cb = keras.callbacks.EarlyStopping(patience=10,restore_best_weights=True)"
   ]
  },
  {
   "cell_type": "code",
   "execution_count": 210,
   "metadata": {},
   "outputs": [
    {
     "name": "stdout",
     "output_type": "stream",
     "text": [
      "Epoch 1/100\n",
      "1960/1960 [==============================] - 3s 1ms/step - loss: 0.6668 - accuracy: 0.5718 - val_loss: 0.6613 - val_accuracy: 0.5824\n",
      "Epoch 2/100\n",
      "1960/1960 [==============================] - 2s 1ms/step - loss: 0.6617 - accuracy: 0.5823 - val_loss: 0.6636 - val_accuracy: 0.5761\n",
      "Epoch 3/100\n",
      "1960/1960 [==============================] - 2s 1ms/step - loss: 0.6602 - accuracy: 0.5818 - val_loss: 0.6600 - val_accuracy: 0.5785\n",
      "Epoch 4/100\n",
      "1960/1960 [==============================] - 2s 1ms/step - loss: 0.6588 - accuracy: 0.5842 - val_loss: 0.6565 - val_accuracy: 0.5873\n",
      "Epoch 5/100\n",
      "1960/1960 [==============================] - 2s 1ms/step - loss: 0.6570 - accuracy: 0.5875 - val_loss: 0.6551 - val_accuracy: 0.5921\n",
      "Epoch 6/100\n",
      "1960/1960 [==============================] - 2s 1ms/step - loss: 0.6566 - accuracy: 0.5880 - val_loss: 0.6543 - val_accuracy: 0.5883\n",
      "Epoch 7/100\n",
      "1960/1960 [==============================] - 3s 1ms/step - loss: 0.6555 - accuracy: 0.5876 - val_loss: 0.6627 - val_accuracy: 0.5922\n",
      "Epoch 8/100\n",
      "1960/1960 [==============================] - 2s 1ms/step - loss: 0.6548 - accuracy: 0.5907 - val_loss: 0.6520 - val_accuracy: 0.5952\n",
      "Epoch 9/100\n",
      "1960/1960 [==============================] - 3s 1ms/step - loss: 0.6538 - accuracy: 0.5900 - val_loss: 0.6523 - val_accuracy: 0.5910\n",
      "Epoch 10/100\n",
      "1960/1960 [==============================] - 3s 1ms/step - loss: 0.6528 - accuracy: 0.5921 - val_loss: 0.6549 - val_accuracy: 0.5918\n",
      "Epoch 11/100\n",
      "1960/1960 [==============================] - 3s 1ms/step - loss: 0.6528 - accuracy: 0.5898 - val_loss: 0.6540 - val_accuracy: 0.5937\n",
      "Epoch 12/100\n",
      "1960/1960 [==============================] - 3s 1ms/step - loss: 0.6517 - accuracy: 0.5934 - val_loss: 0.6523 - val_accuracy: 0.5965\n",
      "Epoch 13/100\n",
      "1960/1960 [==============================] - 3s 1ms/step - loss: 0.6514 - accuracy: 0.5939 - val_loss: 0.6524 - val_accuracy: 0.5941\n",
      "Epoch 14/100\n",
      "1960/1960 [==============================] - 3s 1ms/step - loss: 0.6511 - accuracy: 0.5899 - val_loss: 0.6512 - val_accuracy: 0.5931\n",
      "Epoch 15/100\n",
      "1960/1960 [==============================] - 2s 1ms/step - loss: 0.6501 - accuracy: 0.5931 - val_loss: 0.6559 - val_accuracy: 0.5934\n",
      "Epoch 16/100\n",
      "1960/1960 [==============================] - 2s 1ms/step - loss: 0.6496 - accuracy: 0.5925 - val_loss: 0.6501 - val_accuracy: 0.5955\n",
      "Epoch 17/100\n",
      "1960/1960 [==============================] - 2s 1ms/step - loss: 0.6490 - accuracy: 0.5921 - val_loss: 0.6499 - val_accuracy: 0.5915\n",
      "Epoch 18/100\n",
      "1960/1960 [==============================] - 2s 1ms/step - loss: 0.6484 - accuracy: 0.5943 - val_loss: 0.6500 - val_accuracy: 0.5883\n",
      "Epoch 19/100\n",
      "1960/1960 [==============================] - 2s 1ms/step - loss: 0.6482 - accuracy: 0.5941 - val_loss: 0.6520 - val_accuracy: 0.5966\n",
      "Epoch 20/100\n",
      "1960/1960 [==============================] - 2s 1ms/step - loss: 0.6477 - accuracy: 0.5938 - val_loss: 0.6502 - val_accuracy: 0.5945\n",
      "Epoch 21/100\n",
      "1960/1960 [==============================] - 2s 1ms/step - loss: 0.6474 - accuracy: 0.5953 - val_loss: 0.6493 - val_accuracy: 0.5972\n",
      "Epoch 22/100\n",
      "1960/1960 [==============================] - 2s 1ms/step - loss: 0.6460 - accuracy: 0.5965 - val_loss: 0.6482 - val_accuracy: 0.5949\n",
      "Epoch 23/100\n",
      "1960/1960 [==============================] - 3s 1ms/step - loss: 0.6460 - accuracy: 0.5954 - val_loss: 0.6494 - val_accuracy: 0.5960\n",
      "Epoch 24/100\n",
      "1960/1960 [==============================] - 3s 1ms/step - loss: 0.6448 - accuracy: 0.5964 - val_loss: 0.6499 - val_accuracy: 0.5881\n",
      "Epoch 25/100\n",
      "1960/1960 [==============================] - 3s 1ms/step - loss: 0.6455 - accuracy: 0.5973 - val_loss: 0.6497 - val_accuracy: 0.5972\n",
      "Epoch 26/100\n",
      "1960/1960 [==============================] - 3s 1ms/step - loss: 0.6443 - accuracy: 0.5962 - val_loss: 0.6510 - val_accuracy: 0.5987\n",
      "Epoch 27/100\n",
      "1960/1960 [==============================] - 3s 1ms/step - loss: 0.6440 - accuracy: 0.5979 - val_loss: 0.6490 - val_accuracy: 0.5991\n",
      "Epoch 28/100\n",
      "1960/1960 [==============================] - 3s 1ms/step - loss: 0.6440 - accuracy: 0.5974 - val_loss: 0.6509 - val_accuracy: 0.5919\n",
      "Epoch 29/100\n",
      "1960/1960 [==============================] - 3s 1ms/step - loss: 0.6433 - accuracy: 0.5992 - val_loss: 0.6466 - val_accuracy: 0.5979\n",
      "Epoch 30/100\n",
      "1960/1960 [==============================] - 2s 1ms/step - loss: 0.6415 - accuracy: 0.5994 - val_loss: 0.6456 - val_accuracy: 0.6024\n",
      "Epoch 31/100\n",
      "1960/1960 [==============================] - 2s 1ms/step - loss: 0.6416 - accuracy: 0.6005 - val_loss: 0.6444 - val_accuracy: 0.6015\n",
      "Epoch 32/100\n",
      "1960/1960 [==============================] - 3s 1ms/step - loss: 0.6413 - accuracy: 0.6016 - val_loss: 0.6472 - val_accuracy: 0.6015\n",
      "Epoch 33/100\n",
      "1960/1960 [==============================] - 3s 1ms/step - loss: 0.6416 - accuracy: 0.6006 - val_loss: 0.6465 - val_accuracy: 0.5965\n",
      "Epoch 34/100\n",
      "1960/1960 [==============================] - 3s 1ms/step - loss: 0.6406 - accuracy: 0.6012 - val_loss: 0.6447 - val_accuracy: 0.6043\n",
      "Epoch 35/100\n",
      "1960/1960 [==============================] - 2s 1ms/step - loss: 0.6393 - accuracy: 0.6006 - val_loss: 0.6441 - val_accuracy: 0.6059\n",
      "Epoch 36/100\n",
      "1960/1960 [==============================] - 2s 1ms/step - loss: 0.6406 - accuracy: 0.6001 - val_loss: 0.6481 - val_accuracy: 0.6057\n",
      "Epoch 37/100\n",
      "1960/1960 [==============================] - 2s 1ms/step - loss: 0.6391 - accuracy: 0.6029 - val_loss: 0.6510 - val_accuracy: 0.5977\n",
      "Epoch 38/100\n",
      "1960/1960 [==============================] - 2s 1ms/step - loss: 0.6397 - accuracy: 0.6039 - val_loss: 0.6462 - val_accuracy: 0.5994\n",
      "Epoch 39/100\n",
      "1960/1960 [==============================] - 2s 1ms/step - loss: 0.6381 - accuracy: 0.6027 - val_loss: 0.6449 - val_accuracy: 0.6060\n",
      "Epoch 40/100\n",
      "1960/1960 [==============================] - 2s 1ms/step - loss: 0.6376 - accuracy: 0.6038 - val_loss: 0.6463 - val_accuracy: 0.6000\n",
      "Epoch 41/100\n",
      "1960/1960 [==============================] - 2s 1ms/step - loss: 0.6372 - accuracy: 0.6050 - val_loss: 0.6463 - val_accuracy: 0.5990\n",
      "Epoch 42/100\n",
      "1960/1960 [==============================] - 2s 1ms/step - loss: 0.6367 - accuracy: 0.6038 - val_loss: 0.6424 - val_accuracy: 0.6061\n",
      "Epoch 43/100\n",
      "1960/1960 [==============================] - 2s 1ms/step - loss: 0.6365 - accuracy: 0.6059 - val_loss: 0.6422 - val_accuracy: 0.6054\n",
      "Epoch 44/100\n",
      "1960/1960 [==============================] - 2s 1ms/step - loss: 0.6354 - accuracy: 0.6074 - val_loss: 0.6453 - val_accuracy: 0.6016\n",
      "Epoch 45/100\n",
      "1960/1960 [==============================] - 2s 1ms/step - loss: 0.6354 - accuracy: 0.6069 - val_loss: 0.6483 - val_accuracy: 0.5993\n",
      "Epoch 46/100\n",
      "1960/1960 [==============================] - 2s 1ms/step - loss: 0.6352 - accuracy: 0.6074 - val_loss: 0.6428 - val_accuracy: 0.6042\n",
      "Epoch 47/100\n",
      "1960/1960 [==============================] - 3s 1ms/step - loss: 0.6357 - accuracy: 0.6044 - val_loss: 0.6493 - val_accuracy: 0.6010\n",
      "Epoch 48/100\n",
      "1960/1960 [==============================] - 2s 1ms/step - loss: 0.6350 - accuracy: 0.6050 - val_loss: 0.6487 - val_accuracy: 0.6040\n",
      "Epoch 49/100\n",
      "1960/1960 [==============================] - 2s 1ms/step - loss: 0.6341 - accuracy: 0.6069 - val_loss: 0.6424 - val_accuracy: 0.6059\n",
      "Epoch 50/100\n",
      "1960/1960 [==============================] - 2s 1ms/step - loss: 0.6345 - accuracy: 0.6079 - val_loss: 0.6432 - val_accuracy: 0.6049\n",
      "Epoch 51/100\n",
      "1960/1960 [==============================] - 2s 1ms/step - loss: 0.6340 - accuracy: 0.6062 - val_loss: 0.6444 - val_accuracy: 0.6016\n",
      "Epoch 52/100\n",
      "1960/1960 [==============================] - 2s 1ms/step - loss: 0.6330 - accuracy: 0.6070 - val_loss: 0.6435 - val_accuracy: 0.6071\n",
      "Epoch 53/100\n",
      "1960/1960 [==============================] - 2s 1ms/step - loss: 0.6322 - accuracy: 0.6079 - val_loss: 0.6461 - val_accuracy: 0.6031\n"
     ]
    }
   ],
   "source": [
    "history=modelANNFinal.fit(X_train, y_train, batch_size = 30, epochs=100, validation_data=(X_valid,y_valid), callbacks=[early_stopping_cb])"
   ]
  },
  {
   "cell_type": "code",
   "execution_count": 211,
   "metadata": {},
   "outputs": [],
   "source": [
    "predicted_ANN = modelANNFinal.predict(X_valid)\n",
    "predicted_ANN = predicted_ANN.round()"
   ]
  },
  {
   "cell_type": "code",
   "execution_count": 212,
   "metadata": {},
   "outputs": [
    {
     "data": {
      "text/plain": [
       "array([[4638, 3097],\n",
       "       [2702, 4259]], dtype=int64)"
      ]
     },
     "execution_count": 212,
     "metadata": {},
     "output_type": "execute_result"
    }
   ],
   "source": [
    "confusion_matrix(y_valid,predicted_ANN)"
   ]
  },
  {
   "cell_type": "code",
   "execution_count": 213,
   "metadata": {},
   "outputs": [
    {
     "data": {
      "text/plain": [
       "0.6054028307022319"
      ]
     },
     "execution_count": 213,
     "metadata": {},
     "output_type": "execute_result"
    }
   ],
   "source": [
    "accuracy_score(y_valid,predicted_ANN)"
   ]
  },
  {
   "cell_type": "code",
   "execution_count": 214,
   "metadata": {},
   "outputs": [
    {
     "name": "stdout",
     "output_type": "stream",
     "text": [
      "              precision    recall  f1-score   support\n",
      "\n",
      "           0       0.63      0.60      0.62      7735\n",
      "           1       0.58      0.61      0.59      6961\n",
      "\n",
      "    accuracy                           0.61     14696\n",
      "   macro avg       0.61      0.61      0.61     14696\n",
      "weighted avg       0.61      0.61      0.61     14696\n",
      "\n"
     ]
    }
   ],
   "source": [
    "print(classification_report(y_valid,predicted_ANN))"
   ]
  },
  {
   "cell_type": "code",
   "execution_count": null,
   "metadata": {},
   "outputs": [],
   "source": []
  },
  {
   "cell_type": "code",
   "execution_count": null,
   "metadata": {},
   "outputs": [],
   "source": []
  },
  {
   "cell_type": "markdown",
   "metadata": {},
   "source": [
    "***\n",
    "### Submission:"
   ]
  },
  {
   "cell_type": "code",
   "execution_count": 53,
   "metadata": {},
   "outputs": [],
   "source": [
    "submission = pd.read_csv('sample_submission_QrCyCoT.csv')"
   ]
  },
  {
   "cell_type": "markdown",
   "metadata": {},
   "source": [
    "As RandomForest Performed Best:"
   ]
  },
  {
   "cell_type": "code",
   "execution_count": 54,
   "metadata": {},
   "outputs": [],
   "source": [
    "final_predictions = modelRF.predict(test)"
   ]
  },
  {
   "cell_type": "code",
   "execution_count": 55,
   "metadata": {},
   "outputs": [],
   "source": [
    "submission['Response'] = final_predictions"
   ]
  },
  {
   "cell_type": "code",
   "execution_count": 56,
   "metadata": {},
   "outputs": [],
   "source": [
    "submission.to_csv('24my_submission.csv', index=False)"
   ]
  },
  {
   "cell_type": "code",
   "execution_count": null,
   "metadata": {},
   "outputs": [],
   "source": []
  },
  {
   "cell_type": "code",
   "execution_count": null,
   "metadata": {},
   "outputs": [],
   "source": []
  }
 ],
 "metadata": {
  "kernelspec": {
   "display_name": "Python 3",
   "language": "python",
   "name": "python3"
  },
  "language_info": {
   "codemirror_mode": {
    "name": "ipython",
    "version": 3
   },
   "file_extension": ".py",
   "mimetype": "text/x-python",
   "name": "python",
   "nbconvert_exporter": "python",
   "pygments_lexer": "ipython3",
   "version": "3.7.6"
  }
 },
 "nbformat": 4,
 "nbformat_minor": 4
}
